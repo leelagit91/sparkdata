{
 "cells": [
  {
   "cell_type": "code",
   "execution_count": 1,
   "id": "4a0d3c17-506f-4e39-9521-7f99a48ee722",
   "metadata": {},
   "outputs": [],
   "source": [
    " \n",
    "from  pyspark.sql import SparkSession\n",
    " \n",
    "from pyspark.sql.functions import *\n",
    "from pyspark.sql.types import *"
   ]
  },
  {
   "cell_type": "code",
   "execution_count": 2,
   "id": "f4506ef4-f698-4932-8518-819dbd54840f",
   "metadata": {},
   "outputs": [
    {
     "name": "stderr",
     "output_type": "stream",
     "text": [
      "23/12/14 10:13:47 WARN SparkSession: Using an existing Spark session; only runtime SQL configurations will take effect.\n"
     ]
    }
   ],
   "source": [
    "spark= SparkSession.builder.appName(\"sparkProject\").getOrCreate()"
   ]
  },
  {
   "cell_type": "code",
   "execution_count": 3,
   "id": "814cbdf4-9292-40f0-ab6d-56ad466a728f",
   "metadata": {},
   "outputs": [],
   "source": [
    "schema=StructType([\n",
    "    StructField('fullVisitors', IntegerType(), True),\n",
    "    StructField('Channel',StringType(), True), \n",
    "    StructField('time', IntegerType(), True), \n",
    "    StructField('country', StringType(), True), \n",
    "    StructField('city', StringType(), True),\n",
    "    StructField('timeOnsite', IntegerType(), True), \n",
    "    StructField('pageviews', IntegerType(), True), \n",
    "    StructField('date', IntegerType(), True),\n",
    "    StructField('vistId', StringType(), True), \n",
    "    StructField('type', StringType(), True), \n",
    "    StructField('productprice', IntegerType(), True),\n",
    "    StructField('Ptype', StringType(), True), \n",
    "    StructField('path', StringType(), True), \n",
    "    StructField('channelpath', StringType(), True)\n",
    "])\n",
    " "
   ]
  },
  {
   "cell_type": "code",
   "execution_count": 6,
   "id": "39635899-0db2-4677-99ca-9552f70135b3",
   "metadata": {},
   "outputs": [],
   "source": [
    "data=spark.read.csv('/user/stark1/finaldataset.csv', schema=schema)"
   ]
  },
  {
   "cell_type": "code",
   "execution_count": 7,
   "id": "3685240b-f4c0-486a-9972-1073062439b0",
   "metadata": {},
   "outputs": [
    {
     "name": "stderr",
     "output_type": "stream",
     "text": [
      "[Stage 0:>                                                          (0 + 1) / 1]\r"
     ]
    },
    {
     "name": "stdout",
     "output_type": "stream",
     "text": [
      "+------------+--------------+-------+-------------+--------------------+----------+---------+--------+----------+----+------------+--------------------+--------------------+-----------+\n",
      "|fullVisitors|       Channel|   time|      country|                city|timeOnsite|pageviews|    date|    vistId|type|productprice|               Ptype|                path|channelpath|\n",
      "+------------+--------------+-------+-------------+--------------------+----------+---------+--------+----------+----+------------+--------------------+--------------------+-----------+\n",
      "|        null|        Direct|  63131|United States|            New York|       117|        9|20160822|1471898479|PAGE|    16990000|Women's YouTube S...|Home/Shop by Bran...|    YouTube|\n",
      "|        null|        Direct|  15249|       Taiwan|not available in ...|        73|        4|20160909|1473433346|PAGE|    16990000|Women's YouTube S...|Home/Shop by Bran...|    YouTube|\n",
      "|        null|        Social| 262937|      Czechia|not available in ...|       325|       12|20160828|1472389533|PAGE|    16990000|Women's YouTube S...|Home/Shop by Bran...|    YouTube|\n",
      "|        null|Organic Search|1727433|       Mexico|not available in ...|      3252|       20|20160916|1474047024|PAGE|    16990000|Women's YouTube S...|Home/Shop by Bran...|    YouTube|\n",
      "|        null|Organic Search|1112098|    Venezuela|           Maracaibo|     10076|      351|20160825|1472172400|PAGE|    16990000|Women's YouTube S...|Home/Shop by Bran...|    YouTube|\n",
      "+------------+--------------+-------+-------------+--------------------+----------+---------+--------+----------+----+------------+--------------------+--------------------+-----------+\n",
      "only showing top 5 rows\n",
      "\n"
     ]
    },
    {
     "name": "stderr",
     "output_type": "stream",
     "text": [
      "                                                                                \r"
     ]
    }
   ],
   "source": [
    "data.show(5)"
   ]
  },
  {
   "cell_type": "code",
   "execution_count": 8,
   "id": "09378d7c-19e1-441e-8e37-db8dbb785a0d",
   "metadata": {},
   "outputs": [
    {
     "name": "stderr",
     "output_type": "stream",
     "text": [
      "[Stage 3:>                                                          (0 + 1) / 1]\r"
     ]
    },
    {
     "name": "stdout",
     "output_type": "stream",
     "text": [
      "+----------+\n",
      "|    vistId|\n",
      "+----------+\n",
      "|1474105417|\n",
      "|1470462204|\n",
      "|1470306858|\n",
      "+----------+\n",
      "only showing top 3 rows\n",
      "\n"
     ]
    },
    {
     "name": "stderr",
     "output_type": "stream",
     "text": [
      "                                                                                \r"
     ]
    }
   ],
   "source": [
    "# find the unique product visitors for the websites\n",
    "df1=data.select(\"vistId\").distinct().show(3)"
   ]
  },
  {
   "cell_type": "code",
   "execution_count": 9,
   "id": "61c0db69-da74-4306-aa1c-e5022b28360c",
   "metadata": {},
   "outputs": [
    {
     "name": "stderr",
     "output_type": "stream",
     "text": [
      "[Stage 4:=============================>                             (1 + 1) / 2]\r"
     ]
    },
    {
     "name": "stdout",
     "output_type": "stream",
     "text": [
      "+----------+-----------+\n",
      "|    vistId|visitorsIDs|\n",
      "+----------+-----------+\n",
      "|1474105417|          3|\n",
      "|1470462204|         12|\n",
      "|1470306858|          6|\n",
      "|1474514917|         11|\n",
      "|1475135812|         20|\n",
      "+----------+-----------+\n",
      "only showing top 5 rows\n",
      "\n"
     ]
    },
    {
     "name": "stderr",
     "output_type": "stream",
     "text": [
      "                                                                                \r"
     ]
    }
   ],
   "source": [
    "#count total number of visitorsID\n",
    "df2=data.groupBy(\"vistId\").agg(count(\"vistId\").alias(\"visitorsIDs\")).show(5)"
   ]
  },
  {
   "cell_type": "code",
   "execution_count": 10,
   "id": "95231cfd-7795-446e-b4ee-5554e6e669b5",
   "metadata": {},
   "outputs": [
    {
     "name": "stderr",
     "output_type": "stream",
     "text": [
      "[Stage 7:>                                                          (0 + 2) / 2]\r"
     ]
    },
    {
     "name": "stdout",
     "output_type": "stream",
     "text": [
      "+------------+--------------+-----+-------------+--------------------+----------+---------+--------+----------+-----+------------+-------------------+----------------+-----------+\n",
      "|fullVisitors|       Channel| time|      country|                city|timeOnsite|pageviews|    date|    vistId| type|productprice|              Ptype|            path|channelpath|\n",
      "+------------+--------------+-----+-------------+--------------------+----------+---------+--------+----------+-----+------------+-------------------+----------------+-----------+\n",
      "|        null|        Social|78941|United States|not available in ...|       111|        3|20160921|1474442503|EVENT|   250000000|Gift Card - $250.00|Home/Gift Cards/| Gift Cards|\n",
      "|        null|Organic Search|70946|United States|not available in ...|       108|       12|20160807|1470635602| PAGE|   250000000|Gift Card - $250.00|Home/Gift Cards/| Gift Cards|\n",
      "|        null|Organic Search|56338|United States|not available in ...|       221|        4|20160806|1470526326| PAGE|   250000000|Gift Card - $250.00|Home/Gift Cards/| Gift Cards|\n",
      "+------------+--------------+-----+-------------+--------------------+----------+---------+--------+----------+-----+------------+-------------------+----------------+-----------+\n",
      "only showing top 3 rows\n",
      "\n"
     ]
    },
    {
     "name": "stderr",
     "output_type": "stream",
     "text": [
      "                                                                                \r"
     ]
    }
   ],
   "source": [
    "#get the top product from the provided dataset\n",
    "df3=data.orderBy('productprice', ascending=False).show(3)"
   ]
  },
  {
   "cell_type": "code",
   "execution_count": 11,
   "id": "a56683ca-8977-4cb3-9c79-13ae7b58d4ef",
   "metadata": {},
   "outputs": [
    {
     "name": "stderr",
     "output_type": "stream",
     "text": [
      "                                                                                \r"
     ]
    }
   ],
   "source": [
    "import matplotlib.pyplot as plt\n",
    "panda_data=data.toPandas()"
   ]
  },
  {
   "cell_type": "code",
   "execution_count": 15,
   "id": "4c317d91-4f7d-4355-8d0c-8621a3533642",
   "metadata": {},
   "outputs": [
    {
     "data": {
      "image/png": "[encoded data removed]",
      "text/plain": [
       "<Figure size 640x480 with 1 Axes>"
      ]
     },
     "metadata": {},
     "output_type": "display_data"
    }
   ],
   "source": [
    "plt.bar(panda_data['time'],panda_data['timeOnsite'])\n",
    "plt.xlabel('time')\n",
    "plt.ylabel('timeOnsite')\n",
    "plt.title('barGraph')\n",
    "plt.show()"
   ]
  },
  {
   "cell_type": "code",
   "execution_count": 14,
   "id": "529b091f-0f6a-4340-bc3b-8d19a1074881",
   "metadata": {},
   "outputs": [
    {
     "data": {
      "image/png": "[encoded data removed]",
      "text/plain": [
       "<Figure size 640x480 with 1 Axes>"
      ]
     },
     "metadata": {},
     "output_type": "display_data"
    }
   ],
   "source": [
    "plt.hist(panda_data['productprice'],bins=10, edgecolor='red')\n",
    "plt.xlabel('Ptype')\n",
    "plt.ylabel('productprice')\n",
    "plt.title('histGraph')\n",
    "plt.show()\n",
    " "
   ]
  },
  {
   "cell_type": "code",
   "execution_count": null,
   "id": "2dec681b-def3-4544-92c6-26834830c331",
   "metadata": {},
   "outputs": [],
   "source": []
  }
 ],
 "metadata": {
  "kernelspec": {
   "display_name": "PySpark",
   "language": "python",
   "name": "pyspark"
  },
  "language_info": {
   "codemirror_mode": {
    "name": "ipython",
    "version": 3
   },
   "file_extension": ".py",
   "mimetype": "text/x-python",
   "name": "python",
   "nbconvert_exporter": "python",
   "pygments_lexer": "ipython3",
   "version": "3.10.8"
  }
 },
 "nbformat": 4,
 "nbformat_minor": 5
}
